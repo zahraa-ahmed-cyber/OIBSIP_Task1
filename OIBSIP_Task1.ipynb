{
 "cells": [
  {
   "cell_type": "code",
   "execution_count": 8,
   "metadata": {},
   "outputs": [
    {
     "name": "stdout",
     "output_type": "stream",
     "text": [
      "Loading and preprocessing data...\n",
      "Training the model...\n",
      "Evaluating the model...\n",
      "Accuracy: 1.00\n",
      "                 precision    recall  f1-score   support\n",
      "\n",
      "    Iris-setosa       1.00      1.00      1.00        10\n",
      "Iris-versicolor       1.00      1.00      1.00         9\n",
      " Iris-virginica       1.00      1.00      1.00        11\n",
      "\n",
      "       accuracy                           1.00        30\n",
      "      macro avg       1.00      1.00      1.00        30\n",
      "   weighted avg       1.00      1.00      1.00        30\n",
      "\n"
     ]
    }
   ],
   "source": [
    "# Name : Zahraa Ahmed Abdelkafy\n",
    "\n",
    "import numpy as np\n",
    "import pandas as pd\n",
    "from sklearn.datasets import load_iris\n",
    "from sklearn.model_selection import train_test_split\n",
    "from sklearn.preprocessing import StandardScaler\n",
    "from sklearn.neighbors import KNeighborsClassifier\n",
    "from sklearn.metrics import accuracy_score, classification_report\n",
    "\n",
    "def load_and_preprocess_data():\n",
    "    # Load the Iris dataset\n",
    "    iris = pd.read_csv(\"C:/Users/zahra/Desktop/Oasis/Task1/datasets/Iris.csv\")\n",
    "\n",
    "    # Create a DataFrame with the features (X) and target (y)\n",
    "    X = iris.drop(columns=['Species'])\n",
    "    y = iris['Species']\n",
    "\n",
    "\n",
    "    # Split the dataset into training and testing sets\n",
    "    X_train, X_test, y_train, y_test = train_test_split(X, y, test_size=0.2, random_state=42)\n",
    "\n",
    "    # Standardize the feature values (optional but recommended for some algorithms)\n",
    "    scaler = StandardScaler()\n",
    "    X_train_scaled = scaler.fit_transform(X_train)\n",
    "    X_test_scaled = scaler.transform(X_test)\n",
    "\n",
    "    return X_train_scaled, X_test_scaled, y_train, y_test , y.unique()\n",
    "\n",
    "def train_model(X_train, y_train):\n",
    "    # Create a KNN classifier\n",
    "    knn = KNeighborsClassifier(n_neighbors=3)\n",
    "\n",
    "    # Train the model using the training data\n",
    "    knn.fit(X_train, y_train)\n",
    "\n",
    "    return knn\n",
    "\n",
    "def evaluate_model(model, X_test, y_test , target_names):\n",
    "    # Make predictions on the test set\n",
    "    y_pred = model.predict(X_test)\n",
    "\n",
    "    # Evaluate the model\n",
    "    accuracy = accuracy_score(y_test, y_pred)\n",
    "    print(f\"Accuracy: {accuracy:.2f}\")\n",
    "\n",
    "    # Print the classification report for more detailed evaluation\n",
    "    print(classification_report(y_test, y_pred, target_names=target_names  ))\n",
    "\n",
    "def main():\n",
    "    print(\"Loading and preprocessing data...\")\n",
    "    X_train, X_test, y_train, y_test , target_names = load_and_preprocess_data()\n",
    "\n",
    "    print(\"Training the model...\")\n",
    "    model = train_model(X_train, y_train)\n",
    "\n",
    "    print(\"Evaluating the model...\")\n",
    "    evaluate_model(model, X_test, y_test , target_names)\n",
    "\n",
    "if __name__ == \"__main__\":\n",
    "    main()\n"
   ]
  }
 ],
 "metadata": {
  "kernelspec": {
   "display_name": "Python 3",
   "language": "python",
   "name": "python3"
  },
  "language_info": {
   "codemirror_mode": {
    "name": "ipython",
    "version": 3
   },
   "file_extension": ".py",
   "mimetype": "text/x-python",
   "name": "python",
   "nbconvert_exporter": "python",
   "pygments_lexer": "ipython3",
   "version": "3.10.0"
  },
  "orig_nbformat": 4
 },
 "nbformat": 4,
 "nbformat_minor": 2
}
